{
 "metadata": {
  "language_info": {
   "codemirror_mode": {
    "name": "ipython",
    "version": 3
   },
   "file_extension": ".py",
   "mimetype": "text/x-python",
   "name": "python",
   "nbconvert_exporter": "python",
   "pygments_lexer": "ipython3",
   "version": "3.8.2-final"
  },
  "orig_nbformat": 2,
  "kernelspec": {
   "name": "python3",
   "display_name": "Python 3.8.2 32-bit",
   "metadata": {
    "interpreter": {
     "hash": "519f52da7554b3902a48cfd2e1ac3b76b7aad913017547430bf90b62b89a4387"
    }
   }
  }
 },
 "nbformat": 4,
 "nbformat_minor": 2,
 "cells": [
  {
   "cell_type": "code",
   "execution_count": 5,
   "metadata": {},
   "outputs": [],
   "source": [
    "import sys\n",
    "import os\n",
    "sys.path.append('../')\n",
    "import poker\n",
    "import numpy as np"
   ]
  },
  {
   "cell_type": "code",
   "execution_count": 7,
   "metadata": {},
   "outputs": [],
   "source": [
    "po = poker.Poker()\n",
    "for i,s in enumerate(po.SUIT):\n",
    "    for j,n in enumerate(po.NUMBER):\n",
    "        a = np.zeros((4,13), dtype=int)\n",
    "        a[i,j] = 1\n",
    "        b = po.str2arr(n+s)\n",
    "        if np.count_nonzero(a==b):\n",
    "            pass\n",
    "        else:\n",
    "            print(a)\n",
    "            print(b)\n"
   ]
  },
  {
   "cell_type": "code",
   "execution_count": 8,
   "metadata": {},
   "outputs": [
    {
     "output_type": "stream",
     "name": "stdout",
     "text": [
      "end\n"
     ]
    }
   ],
   "source": [
    "po = poker.Poker()\n",
    "handstr = ''\n",
    "for i,s in enumerate(po.SUIT):\n",
    "    for j,n in enumerate(po.NUMBER):\n",
    "        handstr += n+s\n",
    "\n",
    "a = np.ones((4,13), dtype=int)\n",
    "b = po.str2arr(handstr)\n",
    "if np.count_nonzero(a==b):\n",
    "    pass\n",
    "else:\n",
    "    print(a)\n",
    "    print(b)\n",
    "print('end')"
   ]
  },
  {
   "cell_type": "code",
   "execution_count": 9,
   "metadata": {},
   "outputs": [
    {
     "output_type": "stream",
     "name": "stdout",
     "text": [
      "[[1 1 1 1 1 1 1 1 1 1 1 1 1]\n [1 1 1 1 1 1 1 1 1 1 1 1 1]\n [1 1 1 1 1 1 1 1 1 1 1 1 1]\n [1 1 1 1 1 1 1 1 1 1 1 1 1]]\n"
     ]
    }
   ],
   "source": [
    "po.handrank()"
   ]
  },
  {
   "cell_type": "code",
   "execution_count": null,
   "metadata": {},
   "outputs": [],
   "source": []
  }
 ]
}